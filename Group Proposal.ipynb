{
 "cells": [
  {
   "cell_type": "markdown",
   "metadata": {},
   "source": [
    "# Statistics For The Top 500 Tennis Players In The World"
   ]
  },
  {
   "cell_type": "markdown",
   "metadata": {},
   "source": [
    "## Introduction"
   ]
  },
  {
   "cell_type": "markdown",
   "metadata": {},
   "source": [
    "It is without a doubt that tennis is a very popular sport all around the world. There are several huge tournaments that occur yearly such as Wimbledon, US Open, and Australian Open. In the data set that we are working with today, it shows the statistics of the top 500 tennis players around the world. We want to analyze and tidy this data set from the original set so there’s a clear and concise set of data to use for our project. In our data set we need to tidy the set by highest rank, so number one comes out first and then second and so on. We want to see the relationship between current rank, players age, and prize money won by each player. \n"
   ]
  },
  {
   "cell_type": "markdown",
   "metadata": {},
   "source": [
    "## Analysis:"
   ]
  },
  {
   "cell_type": "code",
   "execution_count": 15,
   "metadata": {},
   "outputs": [],
   "source": [
    "library(tidyverse)\n",
    "library(repr)\n",
    "library(stringr)\n",
    "options(repr.matrix.max.rows = 6)"
   ]
  },
  {
   "cell_type": "markdown",
   "metadata": {},
   "source": [
    "### Data Reading"
   ]
  },
  {
   "cell_type": "code",
   "execution_count": 20,
   "metadata": {},
   "outputs": [
    {
     "name": "stderr",
     "output_type": "stream",
     "text": [
      "Warning message:\n",
      "“Missing column names filled in: 'X1' [1]”\n",
      "Parsed with column specification:\n",
      "cols(\n",
      "  .default = col_character(),\n",
      "  X1 = \u001b[32mcol_double()\u001b[39m,\n",
      "  `Turned Pro` = \u001b[32mcol_double()\u001b[39m,\n",
      "  Seasons = \u001b[32mcol_double()\u001b[39m,\n",
      "  Titles = \u001b[32mcol_double()\u001b[39m,\n",
      "  `Best Season` = \u001b[32mcol_double()\u001b[39m,\n",
      "  Retired = \u001b[32mcol_double()\u001b[39m,\n",
      "  Masters = \u001b[32mcol_double()\u001b[39m,\n",
      "  `Grand Slams` = \u001b[32mcol_double()\u001b[39m,\n",
      "  `Davis Cups` = \u001b[32mcol_double()\u001b[39m,\n",
      "  `Team Cups` = \u001b[32mcol_double()\u001b[39m,\n",
      "  Olympics = \u001b[32mcol_double()\u001b[39m,\n",
      "  `Weeks at No. 1` = \u001b[32mcol_double()\u001b[39m,\n",
      "  `Tour Finals` = \u001b[32mcol_double()\u001b[39m\n",
      ")\n",
      "\n",
      "See spec(...) for full column specifications.\n",
      "\n"
     ]
    },
    {
     "data": {
      "text/html": [
       "<table>\n",
       "<caption>A spec_tbl_df: 500 × 38</caption>\n",
       "<thead>\n",
       "\t<tr><th scope=col>X1</th><th scope=col>Age</th><th scope=col>Country</th><th scope=col>Plays</th><th scope=col>Wikipedia</th><th scope=col>Current Rank</th><th scope=col>Best Rank</th><th scope=col>Name</th><th scope=col>Backhand</th><th scope=col>Prize Money</th><th scope=col>⋯</th><th scope=col>Facebook</th><th scope=col>Twitter</th><th scope=col>Nicknames</th><th scope=col>Grand Slams</th><th scope=col>Davis Cups</th><th scope=col>Web Site</th><th scope=col>Team Cups</th><th scope=col>Olympics</th><th scope=col>Weeks at No. 1</th><th scope=col>Tour Finals</th></tr>\n",
       "\t<tr><th scope=col>&lt;dbl&gt;</th><th scope=col>&lt;chr&gt;</th><th scope=col>&lt;chr&gt;</th><th scope=col>&lt;chr&gt;</th><th scope=col>&lt;chr&gt;</th><th scope=col>&lt;chr&gt;</th><th scope=col>&lt;chr&gt;</th><th scope=col>&lt;chr&gt;</th><th scope=col>&lt;chr&gt;</th><th scope=col>&lt;chr&gt;</th><th scope=col>⋯</th><th scope=col>&lt;chr&gt;</th><th scope=col>&lt;chr&gt;</th><th scope=col>&lt;chr&gt;</th><th scope=col>&lt;dbl&gt;</th><th scope=col>&lt;dbl&gt;</th><th scope=col>&lt;chr&gt;</th><th scope=col>&lt;dbl&gt;</th><th scope=col>&lt;dbl&gt;</th><th scope=col>&lt;dbl&gt;</th><th scope=col>&lt;dbl&gt;</th></tr>\n",
       "</thead>\n",
       "<tbody>\n",
       "\t<tr><td>0</td><td>26 (25-04-1993)</td><td>Brazil        </td><td>Right-handed</td><td>Wikipedia</td><td>378 (97) </td><td>363 (04-11-2019)</td><td>Oscar Jose Gutierrez</td><td>NA        </td><td>NA          </td><td>⋯</td><td>NA</td><td>NA</td><td>NA</td><td>NA</td><td>NA</td><td>NA</td><td>NA</td><td>NA</td><td>NA</td><td>NA</td></tr>\n",
       "\t<tr><td>1</td><td>18 (22-12-2001)</td><td>United Kingdom</td><td>Left-handed </td><td>Wikipedia</td><td>326 (119)</td><td>316 (14-10-2019)</td><td>Jack Draper         </td><td>Two-handed</td><td>$59,040     </td><td>⋯</td><td>NA</td><td>NA</td><td>NA</td><td>NA</td><td>NA</td><td>NA</td><td>NA</td><td>NA</td><td>NA</td><td>NA</td></tr>\n",
       "\t<tr><td>2</td><td>32 (03-11-1987)</td><td>Slovakia      </td><td>Right-handed</td><td>Wikipedia</td><td>178 (280)</td><td>44 (14-01-2013) </td><td>Lukas Lacko         </td><td>Two-handed</td><td>US$3,261,567</td><td>⋯</td><td>NA</td><td>NA</td><td>NA</td><td>NA</td><td>NA</td><td>NA</td><td>NA</td><td>NA</td><td>NA</td><td>NA</td></tr>\n",
       "\t<tr><td>⋮</td><td>⋮</td><td>⋮</td><td>⋮</td><td>⋮</td><td>⋮</td><td>⋮</td><td>⋮</td><td>⋮</td><td>⋮</td><td>⋱</td><td>⋮</td><td>⋮</td><td>⋮</td><td>⋮</td><td>⋮</td><td>⋮</td><td>⋮</td><td>⋮</td><td>⋮</td><td>⋮</td></tr>\n",
       "\t<tr><td>497</td><td>23 (14-03-1996)</td><td>Netherlands</td><td>Left-handed</td><td>Wikipedia</td><td>495 (60)</td><td>342 (05-08-2019)</td><td>Gijs Brouwer   </td><td>NA        </td><td>NA     </td><td>⋯</td><td>NA</td><td>NA</td><td>NA</td><td>NA</td><td>NA</td><td>NA</td><td>NA</td><td>NA</td><td>NA</td><td>NA</td></tr>\n",
       "\t<tr><td>498</td><td>24 (17-05-1995)</td><td>Ukraine    </td><td>NA         </td><td>Wikipedia</td><td>419 (81)</td><td>419 (20-01-2020)</td><td>Vladyslav Orlov</td><td>NA        </td><td>NA     </td><td>⋯</td><td>NA</td><td>NA</td><td>NA</td><td>NA</td><td>NA</td><td>NA</td><td>NA</td><td>NA</td><td>NA</td><td>NA</td></tr>\n",
       "\t<tr><td>499</td><td>22 (26-03-1997)</td><td>Tunisia    </td><td>Left-handed</td><td>Wikipedia</td><td>451 (69)</td><td>408 (24-12-2018)</td><td>Aziz Dougaz    </td><td>Two-handed</td><td>$61,984</td><td>⋯</td><td>NA</td><td>NA</td><td>NA</td><td>NA</td><td>NA</td><td>NA</td><td>NA</td><td>NA</td><td>NA</td><td>NA</td></tr>\n",
       "</tbody>\n",
       "</table>\n"
      ],
      "text/latex": [
       "A spec\\_tbl\\_df: 500 × 38\n",
       "\\begin{tabular}{lllllllllllllllllllll}\n",
       " X1 & Age & Country & Plays & Wikipedia & Current Rank & Best Rank & Name & Backhand & Prize Money & ⋯ & Facebook & Twitter & Nicknames & Grand Slams & Davis Cups & Web Site & Team Cups & Olympics & Weeks at No. 1 & Tour Finals\\\\\n",
       " <dbl> & <chr> & <chr> & <chr> & <chr> & <chr> & <chr> & <chr> & <chr> & <chr> & ⋯ & <chr> & <chr> & <chr> & <dbl> & <dbl> & <chr> & <dbl> & <dbl> & <dbl> & <dbl>\\\\\n",
       "\\hline\n",
       "\t 0 & 26 (25-04-1993) & Brazil         & Right-handed & Wikipedia & 378 (97)  & 363 (04-11-2019) & Oscar Jose Gutierrez & NA         & NA           & ⋯ & NA & NA & NA & NA & NA & NA & NA & NA & NA & NA\\\\\n",
       "\t 1 & 18 (22-12-2001) & United Kingdom & Left-handed  & Wikipedia & 326 (119) & 316 (14-10-2019) & Jack Draper          & Two-handed & \\$59,040      & ⋯ & NA & NA & NA & NA & NA & NA & NA & NA & NA & NA\\\\\n",
       "\t 2 & 32 (03-11-1987) & Slovakia       & Right-handed & Wikipedia & 178 (280) & 44 (14-01-2013)  & Lukas Lacko          & Two-handed & US\\$3,261,567 & ⋯ & NA & NA & NA & NA & NA & NA & NA & NA & NA & NA\\\\\n",
       "\t ⋮ & ⋮ & ⋮ & ⋮ & ⋮ & ⋮ & ⋮ & ⋮ & ⋮ & ⋮ & ⋱ & ⋮ & ⋮ & ⋮ & ⋮ & ⋮ & ⋮ & ⋮ & ⋮ & ⋮ & ⋮\\\\\n",
       "\t 497 & 23 (14-03-1996) & Netherlands & Left-handed & Wikipedia & 495 (60) & 342 (05-08-2019) & Gijs Brouwer    & NA         & NA      & ⋯ & NA & NA & NA & NA & NA & NA & NA & NA & NA & NA\\\\\n",
       "\t 498 & 24 (17-05-1995) & Ukraine     & NA          & Wikipedia & 419 (81) & 419 (20-01-2020) & Vladyslav Orlov & NA         & NA      & ⋯ & NA & NA & NA & NA & NA & NA & NA & NA & NA & NA\\\\\n",
       "\t 499 & 22 (26-03-1997) & Tunisia     & Left-handed & Wikipedia & 451 (69) & 408 (24-12-2018) & Aziz Dougaz     & Two-handed & \\$61,984 & ⋯ & NA & NA & NA & NA & NA & NA & NA & NA & NA & NA\\\\\n",
       "\\end{tabular}\n"
      ],
      "text/markdown": [
       "\n",
       "A spec_tbl_df: 500 × 38\n",
       "\n",
       "| X1 &lt;dbl&gt; | Age &lt;chr&gt; | Country &lt;chr&gt; | Plays &lt;chr&gt; | Wikipedia &lt;chr&gt; | Current Rank &lt;chr&gt; | Best Rank &lt;chr&gt; | Name &lt;chr&gt; | Backhand &lt;chr&gt; | Prize Money &lt;chr&gt; | ⋯ ⋯ | Facebook &lt;chr&gt; | Twitter &lt;chr&gt; | Nicknames &lt;chr&gt; | Grand Slams &lt;dbl&gt; | Davis Cups &lt;dbl&gt; | Web Site &lt;chr&gt; | Team Cups &lt;dbl&gt; | Olympics &lt;dbl&gt; | Weeks at No. 1 &lt;dbl&gt; | Tour Finals &lt;dbl&gt; |\n",
       "|---|---|---|---|---|---|---|---|---|---|---|---|---|---|---|---|---|---|---|---|---|\n",
       "| 0 | 26 (25-04-1993) | Brazil         | Right-handed | Wikipedia | 378 (97)  | 363 (04-11-2019) | Oscar Jose Gutierrez | NA         | NA           | ⋯ | NA | NA | NA | NA | NA | NA | NA | NA | NA | NA |\n",
       "| 1 | 18 (22-12-2001) | United Kingdom | Left-handed  | Wikipedia | 326 (119) | 316 (14-10-2019) | Jack Draper          | Two-handed | $59,040      | ⋯ | NA | NA | NA | NA | NA | NA | NA | NA | NA | NA |\n",
       "| 2 | 32 (03-11-1987) | Slovakia       | Right-handed | Wikipedia | 178 (280) | 44 (14-01-2013)  | Lukas Lacko          | Two-handed | US$3,261,567 | ⋯ | NA | NA | NA | NA | NA | NA | NA | NA | NA | NA |\n",
       "| ⋮ | ⋮ | ⋮ | ⋮ | ⋮ | ⋮ | ⋮ | ⋮ | ⋮ | ⋮ | ⋱ | ⋮ | ⋮ | ⋮ | ⋮ | ⋮ | ⋮ | ⋮ | ⋮ | ⋮ | ⋮ |\n",
       "| 497 | 23 (14-03-1996) | Netherlands | Left-handed | Wikipedia | 495 (60) | 342 (05-08-2019) | Gijs Brouwer    | NA         | NA      | ⋯ | NA | NA | NA | NA | NA | NA | NA | NA | NA | NA |\n",
       "| 498 | 24 (17-05-1995) | Ukraine     | NA          | Wikipedia | 419 (81) | 419 (20-01-2020) | Vladyslav Orlov | NA         | NA      | ⋯ | NA | NA | NA | NA | NA | NA | NA | NA | NA | NA |\n",
       "| 499 | 22 (26-03-1997) | Tunisia     | Left-handed | Wikipedia | 451 (69) | 408 (24-12-2018) | Aziz Dougaz     | Two-handed | $61,984 | ⋯ | NA | NA | NA | NA | NA | NA | NA | NA | NA | NA |\n",
       "\n"
      ],
      "text/plain": [
       "    X1  Age             Country        Plays        Wikipedia Current Rank\n",
       "1   0   26 (25-04-1993) Brazil         Right-handed Wikipedia 378 (97)    \n",
       "2   1   18 (22-12-2001) United Kingdom Left-handed  Wikipedia 326 (119)   \n",
       "3   2   32 (03-11-1987) Slovakia       Right-handed Wikipedia 178 (280)   \n",
       "⋮   ⋮   ⋮               ⋮              ⋮            ⋮         ⋮           \n",
       "498 497 23 (14-03-1996) Netherlands    Left-handed  Wikipedia 495 (60)    \n",
       "499 498 24 (17-05-1995) Ukraine        NA           Wikipedia 419 (81)    \n",
       "500 499 22 (26-03-1997) Tunisia        Left-handed  Wikipedia 451 (69)    \n",
       "    Best Rank        Name                 Backhand   Prize Money  ⋯ Facebook\n",
       "1   363 (04-11-2019) Oscar Jose Gutierrez NA         NA           ⋯ NA      \n",
       "2   316 (14-10-2019) Jack Draper          Two-handed $59,040      ⋯ NA      \n",
       "3   44 (14-01-2013)  Lukas Lacko          Two-handed US$3,261,567 ⋯ NA      \n",
       "⋮   ⋮                ⋮                    ⋮          ⋮            ⋱ ⋮       \n",
       "498 342 (05-08-2019) Gijs Brouwer         NA         NA           ⋯ NA      \n",
       "499 419 (20-01-2020) Vladyslav Orlov      NA         NA           ⋯ NA      \n",
       "500 408 (24-12-2018) Aziz Dougaz          Two-handed $61,984      ⋯ NA      \n",
       "    Twitter Nicknames Grand Slams Davis Cups Web Site Team Cups Olympics\n",
       "1   NA      NA        NA          NA         NA       NA        NA      \n",
       "2   NA      NA        NA          NA         NA       NA        NA      \n",
       "3   NA      NA        NA          NA         NA       NA        NA      \n",
       "⋮   ⋮       ⋮         ⋮           ⋮          ⋮        ⋮         ⋮       \n",
       "498 NA      NA        NA          NA         NA       NA        NA      \n",
       "499 NA      NA        NA          NA         NA       NA        NA      \n",
       "500 NA      NA        NA          NA         NA       NA        NA      \n",
       "    Weeks at No. 1 Tour Finals\n",
       "1   NA             NA         \n",
       "2   NA             NA         \n",
       "3   NA             NA         \n",
       "⋮   ⋮              ⋮          \n",
       "498 NA             NA         \n",
       "499 NA             NA         \n",
       "500 NA             NA         "
      ]
     },
     "metadata": {},
     "output_type": "display_data"
    }
   ],
   "source": [
    "raw_data <- read_csv(\"player_stats.csv\")\n",
    "raw_data"
   ]
  },
  {
   "cell_type": "markdown",
   "metadata": {},
   "source": [
    "### Data Wrangling"
   ]
  },
  {
   "cell_type": "code",
   "execution_count": 21,
   "metadata": {},
   "outputs": [
    {
     "data": {
      "text/html": [
       "<table>\n",
       "<caption>A tibble: 99 × 11</caption>\n",
       "<thead>\n",
       "\t<tr><th scope=col>Age</th><th scope=col>Country</th><th scope=col>Plays</th><th scope=col>Current Rank</th><th scope=col>Name</th><th scope=col>Backhand</th><th scope=col>Prize Money</th><th scope=col>Favorite Surface</th><th scope=col>Turned Pro</th><th scope=col>Seasons</th><th scope=col>Height(cm)</th></tr>\n",
       "\t<tr><th scope=col>&lt;int&gt;</th><th scope=col>&lt;chr&gt;</th><th scope=col>&lt;fct&gt;</th><th scope=col>&lt;int&gt;</th><th scope=col>&lt;chr&gt;</th><th scope=col>&lt;fct&gt;</th><th scope=col>&lt;chr&gt;</th><th scope=col>&lt;chr&gt;</th><th scope=col>&lt;dbl&gt;</th><th scope=col>&lt;dbl&gt;</th><th scope=col>&lt;int&gt;</th></tr>\n",
       "</thead>\n",
       "<tbody>\n",
       "\t<tr><td>33</td><td>Spain      </td><td>Left-handed </td><td>1</td><td>Rafael Nadal  </td><td>Two-handed</td><td>US$119,601,561                               </td><td>Clay 39%       </td><td>2001</td><td>19</td><td>185</td></tr>\n",
       "\t<tr><td>32</td><td>Serbia     </td><td>Right-handed</td><td>2</td><td>Novak Djokovic</td><td>Two-handed</td><td>US$ 139,144,944 All-time leader in earnings  </td><td>Fast (H, G) 14%</td><td>2003</td><td>17</td><td>188</td></tr>\n",
       "\t<tr><td>38</td><td>Switzerland</td><td>Right-handed</td><td>3</td><td>Roger Federer </td><td>One-handed</td><td>$ 129,231,891 2nd all-time leader in earnings</td><td>Grass 36%      </td><td>1998</td><td>22</td><td>185</td></tr>\n",
       "\t<tr><td>⋮</td><td>⋮</td><td>⋮</td><td>⋮</td><td>⋮</td><td>⋮</td><td>⋮</td><td>⋮</td><td>⋮</td><td>⋮</td><td>⋮</td></tr>\n",
       "\t<tr><td>27</td><td>Belarus      </td><td>Right-handed</td><td> 98</td><td>Egor Gerasimov </td><td>Two-handed</td><td>$360,093  </td><td>None 6%  </td><td>2010</td><td>7</td><td>NA</td></tr>\n",
       "\t<tr><td>26</td><td>Austria      </td><td>Right-handed</td><td> 99</td><td>Dennis Novak   </td><td>Two-handed</td><td>$709,278  </td><td>Clay 28% </td><td>2011</td><td>7</td><td>NA</td></tr>\n",
       "\t<tr><td>28</td><td>United States</td><td>Right-handed</td><td>100</td><td>Tennys Sandgren</td><td>Two-handed</td><td>$2,109,288</td><td>Grass 29%</td><td>2011</td><td>4</td><td>NA</td></tr>\n",
       "</tbody>\n",
       "</table>\n"
      ],
      "text/latex": [
       "A tibble: 99 × 11\n",
       "\\begin{tabular}{lllllllllll}\n",
       " Age & Country & Plays & Current Rank & Name & Backhand & Prize Money & Favorite Surface & Turned Pro & Seasons & Height(cm)\\\\\n",
       " <int> & <chr> & <fct> & <int> & <chr> & <fct> & <chr> & <chr> & <dbl> & <dbl> & <int>\\\\\n",
       "\\hline\n",
       "\t 33 & Spain       & Left-handed  & 1 & Rafael Nadal   & Two-handed & US\\$119,601,561                                & Clay 39\\%        & 2001 & 19 & 185\\\\\n",
       "\t 32 & Serbia      & Right-handed & 2 & Novak Djokovic & Two-handed & US\\$ 139,144,944 All-time leader in earnings   & Fast (H, G) 14\\% & 2003 & 17 & 188\\\\\n",
       "\t 38 & Switzerland & Right-handed & 3 & Roger Federer  & One-handed & \\$ 129,231,891 2nd all-time leader in earnings & Grass 36\\%       & 1998 & 22 & 185\\\\\n",
       "\t ⋮ & ⋮ & ⋮ & ⋮ & ⋮ & ⋮ & ⋮ & ⋮ & ⋮ & ⋮ & ⋮\\\\\n",
       "\t 27 & Belarus       & Right-handed &  98 & Egor Gerasimov  & Two-handed & \\$360,093   & None 6\\%   & 2010 & 7 & NA\\\\\n",
       "\t 26 & Austria       & Right-handed &  99 & Dennis Novak    & Two-handed & \\$709,278   & Clay 28\\%  & 2011 & 7 & NA\\\\\n",
       "\t 28 & United States & Right-handed & 100 & Tennys Sandgren & Two-handed & \\$2,109,288 & Grass 29\\% & 2011 & 4 & NA\\\\\n",
       "\\end{tabular}\n"
      ],
      "text/markdown": [
       "\n",
       "A tibble: 99 × 11\n",
       "\n",
       "| Age &lt;int&gt; | Country &lt;chr&gt; | Plays &lt;fct&gt; | Current Rank &lt;int&gt; | Name &lt;chr&gt; | Backhand &lt;fct&gt; | Prize Money &lt;chr&gt; | Favorite Surface &lt;chr&gt; | Turned Pro &lt;dbl&gt; | Seasons &lt;dbl&gt; | Height(cm) &lt;int&gt; |\n",
       "|---|---|---|---|---|---|---|---|---|---|---|\n",
       "| 33 | Spain       | Left-handed  | 1 | Rafael Nadal   | Two-handed | US$119,601,561                                | Clay 39%        | 2001 | 19 | 185 |\n",
       "| 32 | Serbia      | Right-handed | 2 | Novak Djokovic | Two-handed | US$ 139,144,944 All-time leader in earnings   | Fast (H, G) 14% | 2003 | 17 | 188 |\n",
       "| 38 | Switzerland | Right-handed | 3 | Roger Federer  | One-handed | $ 129,231,891 2nd all-time leader in earnings | Grass 36%       | 1998 | 22 | 185 |\n",
       "| ⋮ | ⋮ | ⋮ | ⋮ | ⋮ | ⋮ | ⋮ | ⋮ | ⋮ | ⋮ | ⋮ |\n",
       "| 27 | Belarus       | Right-handed |  98 | Egor Gerasimov  | Two-handed | $360,093   | None 6%   | 2010 | 7 | NA |\n",
       "| 26 | Austria       | Right-handed |  99 | Dennis Novak    | Two-handed | $709,278   | Clay 28%  | 2011 | 7 | NA |\n",
       "| 28 | United States | Right-handed | 100 | Tennys Sandgren | Two-handed | $2,109,288 | Grass 29% | 2011 | 4 | NA |\n",
       "\n"
      ],
      "text/plain": [
       "   Age Country       Plays        Current Rank Name            Backhand  \n",
       "1  33  Spain         Left-handed  1            Rafael Nadal    Two-handed\n",
       "2  32  Serbia        Right-handed 2            Novak Djokovic  Two-handed\n",
       "3  38  Switzerland   Right-handed 3            Roger Federer   One-handed\n",
       "⋮  ⋮   ⋮             ⋮            ⋮            ⋮               ⋮         \n",
       "97 27  Belarus       Right-handed  98          Egor Gerasimov  Two-handed\n",
       "98 26  Austria       Right-handed  99          Dennis Novak    Two-handed\n",
       "99 28  United States Right-handed 100          Tennys Sandgren Two-handed\n",
       "   Prize Money                                   Favorite Surface Turned Pro\n",
       "1  US$119,601,561                                Clay 39%         2001      \n",
       "2  US$ 139,144,944 All-time leader in earnings   Fast (H, G) 14%  2003      \n",
       "3  $ 129,231,891 2nd all-time leader in earnings Grass 36%        1998      \n",
       "⋮  ⋮                                             ⋮                ⋮         \n",
       "97 $360,093                                      None 6%          2010      \n",
       "98 $709,278                                      Clay 28%         2011      \n",
       "99 $2,109,288                                    Grass 29%        2011      \n",
       "   Seasons Height(cm)\n",
       "1  19      185       \n",
       "2  17      188       \n",
       "3  22      185       \n",
       "⋮  ⋮       ⋮         \n",
       "97 7       NA        \n",
       "98 7       NA        \n",
       "99 4       NA        "
      ]
     },
     "metadata": {},
     "output_type": "display_data"
    }
   ],
   "source": [
    "tidy_data <- raw_data %>%\n",
    "             select(Age:Seasons) %>%\n",
    "             select(-Wikipedia, -'Best Rank') %>%\n",
    "             mutate(Age = as.integer(str_sub(Age, 1, 2))) %>%\n",
    "             mutate('Height(cm)' = as.integer(str_sub(Height, 1, 3))) %>%\n",
    "             select(-Height) %>%\n",
    "             mutate('Current Rank' = as.integer(str_remove(string = raw_data$'Current Rank', pattern = \"\\\\(.*\\\\)\"))) %>%\n",
    "             mutate(Plays = as.factor(Plays)) %>%\n",
    "             mutate(Backhand = as.factor(Backhand)) %>%\n",
    "             arrange(`Current Rank`) %>%\n",
    "             head(99)\n",
    "tidy_data"
   ]
  },
  {
   "cell_type": "code",
   "execution_count": 23,
   "metadata": {},
   "outputs": [
    {
     "data": {
      "image/png": "[encoded data removed]",
      "text/plain": [
       "plot without title"
      ]
     },
     "metadata": {
      "image/png": {
       "height": 420,
       "width": 420
      }
     },
     "output_type": "display_data"
    }
   ],
   "source": [
    "age_distrubution <- ggplot(tidy_data, aes(x = Age, y = `Current Rank`)) +\n",
    "    geom_point(stat = 'identity') +\n",
    "    xlab(\"Age of 100 players\") + \n",
    "    ylab(\"Current Rank of 100 Players\") +\n",
    "    ggtitle(\"Relationship between Age and Rank of 100 Players\") +\n",
    "    theme(text = element_text(size = 15)) \n",
    "    \n",
    "age_distrubution"
   ]
  },
  {
   "cell_type": "markdown",
   "metadata": {},
   "source": [
    "## Methods"
   ]
  },
  {
   "cell_type": "markdown",
   "metadata": {},
   "source": [
    "Our goal is to make three graphs with the tidied data and by using the columns which have most of the details filled in. The graphs are going to be scaled to the current top 100 tennis players instead of 500. We plan on using colours and shapes.\n",
    "1. In the first graph, we are using the relationships between the players’ age and current rank. The graph is going to be relating current rank and age is going to be a histogram graph. Viewing this graph we can see the data and what age has the highest current ranked players. By that we can assume that the age range with the highest current rank is where the best players fall under. \n",
    "2. The second graph we are making is going to be relating current rank, age of player, and prize money won by the player. This graph is going to be a scatter plot graph and we are planning on seeing whether the data is linear or exponential.\n",
    "3. The third graph is the relationship between age, current rank, backhand preference, and which is their dominant hand.\n"
   ]
  },
  {
   "cell_type": "markdown",
   "metadata": {},
   "source": [
    "## Expected Outcomes and Significance"
   ]
  },
  {
   "cell_type": "markdown",
   "metadata": {},
   "source": [
    "### Age vs. Ranking\n",
    "We predict that there would be a quadratic relationship between a player's age and rank. Most players in the dataset are between the age of 20-30, thus there would be a peak between those two endpoints. An older player may have more experience, while a younger player may display better physical fitness.\n",
    "\n",
    "### Both vs. Prize Money\n",
    "If both variables were to be examined together with prize money, there would be a nonlinear relationship since the individual relationship they each have with prize money contradicts each other. Even if we reverse the rank number for the ranking to have a positive relationship with the prize money, other variables may present. An example would be that an older player with high total prize money may not be as high in the ranking as they were due to aging. Thus, we cannot indicate the relationship between both variables and prize money.\n",
    "\n",
    "### Rank vs. Plays\n",
    "We are comparing rank vs plays. We expect no relation between the players chosen play type and their rank. The graph turned out how we expected where there was no relation and the graph was spread out. However, there were more right handed players, blue dots, than left handed. There is also almost an even spread of players who play the backhand with one and both hands.\n",
    "\n",
    "### Impact:\n",
    "The results would bring us insights into how much a top player can earn during their career and display career prospects for new or future tennis players. It reveals the golden age for tennis players, motivating them to work harder during this period, where they are likely to have the maximum potential. \n",
    "\n",
    "### Future Questions:\n",
    "1. At around what age should players start training or playing tennis to be ranked higher up in a player’s tennis career?\n",
    "2. What is the best age to retire at?\n",
    "3. Why are most players ranked higher between ages 20 and 30?\n",
    "4. On average what percent of players are left handed and right handed?\n",
    "\n",
    "\n",
    "\n"
   ]
  },
  {
   "cell_type": "code",
   "execution_count": null,
   "metadata": {},
   "outputs": [],
   "source": []
  }
 ],
 "metadata": {
  "kernelspec": {
   "display_name": "R",
   "language": "R",
   "name": "ir"
  },
  "language_info": {
   "codemirror_mode": "r",
   "file_extension": ".r",
   "mimetype": "text/x-r-source",
   "name": "R",
   "pygments_lexer": "r",
   "version": "4.0.0"
  }
 },
 "nbformat": 4,
 "nbformat_minor": 4
}
