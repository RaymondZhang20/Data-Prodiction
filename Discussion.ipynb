{
 "cells": [
  {
   "cell_type": "markdown",
   "metadata": {},
   "source": [
    "Discussion: \n"
   ]
  },
  {
   "cell_type": "markdown",
   "metadata": {},
   "source": [
    "- summarize what you found\n",
    "- discuss whether this is what you expected to find?\n",
    "- discuss what impact could such findings have?\n",
    "- discuss what future questions could this lead to?\n"
   ]
  },
  {
   "cell_type": "code",
   "execution_count": null,
   "metadata": {},
   "outputs": [],
   "source": []
  },
  {
   "cell_type": "code",
   "execution_count": null,
   "metadata": {},
   "outputs": [],
   "source": []
  },
  {
   "cell_type": "markdown",
   "metadata": {},
   "source": [
    "## Impact of Finding\n",
    "The results would bring us insights into how much a top player can earn during their career and display career prospects for new or future tennis players. It also helps people to have a sense of idea on how much money a player is making by looking at some of their triats. \n",
    "\n",
    "It reveals the golden age for tennis players, motivating them to work harder during this period, where they are likely to have the maximum potential. "
   ]
  },
  {
   "cell_type": "markdown",
   "metadata": {},
   "source": [
    "## Questions For Future Researches\n",
    "1. At around what age should players start training or playing tennis to be ranked higher up in a player’s tennis career?\n",
    "2. What is the best age to retire at?\n",
    "3. Why are most players ranked higher between ages 20 and 30?\n",
    "4. On average what percent of players are left handed and right handed?\n",
    "\n"
   ]
  }
 ],
 "metadata": {
  "kernelspec": {
   "display_name": "R",
   "language": "R",
   "name": "ir"
  },
  "language_info": {
   "codemirror_mode": "r",
   "file_extension": ".r",
   "mimetype": "text/x-r-source",
   "name": "R",
   "pygments_lexer": "r",
   "version": "4.0.0"
  }
 },
 "nbformat": 4,
 "nbformat_minor": 4
}
